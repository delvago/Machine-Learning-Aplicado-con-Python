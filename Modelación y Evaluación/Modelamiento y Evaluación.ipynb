{
 "cells": [
  {
   "cell_type": "markdown",
   "metadata": {},
   "source": [
    "# Antes de entrenar el modelo, aprendamos sobre el funcionamiento y la API Scikit-Learn"
   ]
  },
  {
   "cell_type": "code",
   "execution_count": 18,
   "metadata": {},
   "outputs": [],
   "source": [
    "import numpy as np\n",
    "import pandas as pd"
   ]
  },
  {
   "cell_type": "markdown",
   "metadata": {},
   "source": [
    "Scikit-learn es la librería más usada de Machine Learning tradicional [Ver ranking de Github](https://github.com/showcases/machine-learning). La librería incluye funcionalidades de:\n",
    "Preprocesamiento de datos en  sklearn.preprocessing \n",
    "Algoritmos de Machine Learning en sklearn.linear_model, sklearn.svm, sklearn.ensemble, y muchos más.\n",
    "Evaluación de modelos en sklearn.model_selection y sklearn.metrics"
   ]
  },
  {
   "cell_type": "code",
   "execution_count": 19,
   "metadata": {},
   "outputs": [],
   "source": [
    "X = pd.read_csv('..\\..\\..\\DataSets\\Resultados intermedios peliculas DS\\X.csv')"
   ]
  },
  {
   "cell_type": "code",
   "execution_count": 20,
   "metadata": {},
   "outputs": [],
   "source": [
    "y = X['worldwide_gross']"
   ]
  },
  {
   "cell_type": "code",
   "execution_count": 21,
   "metadata": {},
   "outputs": [],
   "source": [
    "X = X.drop('worldwide_gross', axis=1)"
   ]
  },
  {
   "cell_type": "code",
   "execution_count": 22,
   "metadata": {},
   "outputs": [
    {
     "data": {
      "text/html": [
       "<div>\n",
       "<style scoped>\n",
       "    .dataframe tbody tr th:only-of-type {\n",
       "        vertical-align: middle;\n",
       "    }\n",
       "\n",
       "    .dataframe tbody tr th {\n",
       "        vertical-align: top;\n",
       "    }\n",
       "\n",
       "    .dataframe thead th {\n",
       "        text-align: right;\n",
       "    }\n",
       "</style>\n",
       "<table border=\"1\" class=\"dataframe\">\n",
       "  <thead>\n",
       "    <tr style=\"text-align: right;\">\n",
       "      <th></th>\n",
       "      <th>production_budget</th>\n",
       "      <th>title_year</th>\n",
       "      <th>aspect_ratio</th>\n",
       "      <th>duration</th>\n",
       "      <th>budget</th>\n",
       "      <th>imdb_score</th>\n",
       "      <th>gross</th>\n",
       "    </tr>\n",
       "  </thead>\n",
       "  <tbody>\n",
       "    <tr>\n",
       "      <th>0</th>\n",
       "      <td>425000000.0</td>\n",
       "      <td>2009.000000</td>\n",
       "      <td>1.780000</td>\n",
       "      <td>178.000000</td>\n",
       "      <td>2.370000e+08</td>\n",
       "      <td>7.9</td>\n",
       "      <td>7.605058e+08</td>\n",
       "    </tr>\n",
       "    <tr>\n",
       "      <th>1</th>\n",
       "      <td>306000000.0</td>\n",
       "      <td>2002.130733</td>\n",
       "      <td>2.126976</td>\n",
       "      <td>108.577186</td>\n",
       "      <td>4.045539e+07</td>\n",
       "      <td>7.1</td>\n",
       "      <td>4.831933e+07</td>\n",
       "    </tr>\n",
       "    <tr>\n",
       "      <th>2</th>\n",
       "      <td>300000000.0</td>\n",
       "      <td>2007.000000</td>\n",
       "      <td>2.350000</td>\n",
       "      <td>169.000000</td>\n",
       "      <td>3.000000e+08</td>\n",
       "      <td>7.1</td>\n",
       "      <td>3.094042e+08</td>\n",
       "    </tr>\n",
       "    <tr>\n",
       "      <th>3</th>\n",
       "      <td>300000000.0</td>\n",
       "      <td>2015.000000</td>\n",
       "      <td>2.350000</td>\n",
       "      <td>148.000000</td>\n",
       "      <td>2.450000e+08</td>\n",
       "      <td>6.8</td>\n",
       "      <td>2.000742e+08</td>\n",
       "    </tr>\n",
       "    <tr>\n",
       "      <th>4</th>\n",
       "      <td>275000000.0</td>\n",
       "      <td>2012.000000</td>\n",
       "      <td>2.350000</td>\n",
       "      <td>164.000000</td>\n",
       "      <td>2.500000e+08</td>\n",
       "      <td>8.5</td>\n",
       "      <td>4.481306e+08</td>\n",
       "    </tr>\n",
       "    <tr>\n",
       "      <th>...</th>\n",
       "      <td>...</td>\n",
       "      <td>...</td>\n",
       "      <td>...</td>\n",
       "      <td>...</td>\n",
       "      <td>...</td>\n",
       "      <td>...</td>\n",
       "      <td>...</td>\n",
       "    </tr>\n",
       "    <tr>\n",
       "      <th>4099</th>\n",
       "      <td>7000.0</td>\n",
       "      <td>2004.000000</td>\n",
       "      <td>1.850000</td>\n",
       "      <td>77.000000</td>\n",
       "      <td>7.000000e+03</td>\n",
       "      <td>7.0</td>\n",
       "      <td>4.247600e+05</td>\n",
       "    </tr>\n",
       "    <tr>\n",
       "      <th>4100</th>\n",
       "      <td>7000.0</td>\n",
       "      <td>2005.000000</td>\n",
       "      <td>2.126976</td>\n",
       "      <td>80.000000</td>\n",
       "      <td>7.000000e+03</td>\n",
       "      <td>6.3</td>\n",
       "      <td>7.007100e+04</td>\n",
       "    </tr>\n",
       "    <tr>\n",
       "      <th>4101</th>\n",
       "      <td>7000.0</td>\n",
       "      <td>2005.000000</td>\n",
       "      <td>2.126976</td>\n",
       "      <td>84.000000</td>\n",
       "      <td>3.250000e+03</td>\n",
       "      <td>7.8</td>\n",
       "      <td>4.831933e+07</td>\n",
       "    </tr>\n",
       "    <tr>\n",
       "      <th>4102</th>\n",
       "      <td>3967.0</td>\n",
       "      <td>2012.000000</td>\n",
       "      <td>2.350000</td>\n",
       "      <td>100.000000</td>\n",
       "      <td>4.045539e+07</td>\n",
       "      <td>6.3</td>\n",
       "      <td>1.044300e+04</td>\n",
       "    </tr>\n",
       "    <tr>\n",
       "      <th>4103</th>\n",
       "      <td>1100.0</td>\n",
       "      <td>2004.000000</td>\n",
       "      <td>1.850000</td>\n",
       "      <td>90.000000</td>\n",
       "      <td>1.100000e+03</td>\n",
       "      <td>6.6</td>\n",
       "      <td>8.522200e+04</td>\n",
       "    </tr>\n",
       "  </tbody>\n",
       "</table>\n",
       "<p>4104 rows × 7 columns</p>\n",
       "</div>"
      ],
      "text/plain": [
       "      production_budget   title_year  aspect_ratio    duration        budget  \\\n",
       "0           425000000.0  2009.000000      1.780000  178.000000  2.370000e+08   \n",
       "1           306000000.0  2002.130733      2.126976  108.577186  4.045539e+07   \n",
       "2           300000000.0  2007.000000      2.350000  169.000000  3.000000e+08   \n",
       "3           300000000.0  2015.000000      2.350000  148.000000  2.450000e+08   \n",
       "4           275000000.0  2012.000000      2.350000  164.000000  2.500000e+08   \n",
       "...                 ...          ...           ...         ...           ...   \n",
       "4099             7000.0  2004.000000      1.850000   77.000000  7.000000e+03   \n",
       "4100             7000.0  2005.000000      2.126976   80.000000  7.000000e+03   \n",
       "4101             7000.0  2005.000000      2.126976   84.000000  3.250000e+03   \n",
       "4102             3967.0  2012.000000      2.350000  100.000000  4.045539e+07   \n",
       "4103             1100.0  2004.000000      1.850000   90.000000  1.100000e+03   \n",
       "\n",
       "      imdb_score         gross  \n",
       "0            7.9  7.605058e+08  \n",
       "1            7.1  4.831933e+07  \n",
       "2            7.1  3.094042e+08  \n",
       "3            6.8  2.000742e+08  \n",
       "4            8.5  4.481306e+08  \n",
       "...          ...           ...  \n",
       "4099         7.0  4.247600e+05  \n",
       "4100         6.3  7.007100e+04  \n",
       "4101         7.8  4.831933e+07  \n",
       "4102         6.3  1.044300e+04  \n",
       "4103         6.6  8.522200e+04  \n",
       "\n",
       "[4104 rows x 7 columns]"
      ]
     },
     "execution_count": 22,
     "metadata": {},
     "output_type": "execute_result"
    }
   ],
   "source": [
    "X"
   ]
  },
  {
   "cell_type": "code",
   "execution_count": 23,
   "metadata": {},
   "outputs": [
    {
     "data": {
      "text/plain": [
       "0       2.783919e+09\n",
       "1       2.058662e+09\n",
       "2       9.634204e+08\n",
       "3       8.796209e+08\n",
       "4       1.084439e+09\n",
       "            ...     \n",
       "4099    8.419260e+05\n",
       "4100    7.164400e+04\n",
       "4101    9.000000e+02\n",
       "4102    1.044300e+04\n",
       "4103    1.810410e+05\n",
       "Name: worldwide_gross, Length: 4104, dtype: float64"
      ]
     },
     "execution_count": 23,
     "metadata": {},
     "output_type": "execute_result"
    }
   ],
   "source": [
    "y"
   ]
  },
  {
   "cell_type": "code",
   "execution_count": 24,
   "metadata": {},
   "outputs": [],
   "source": [
    "from sklearn.model_selection import train_test_split"
   ]
  },
  {
   "cell_type": "code",
   "execution_count": 25,
   "metadata": {},
   "outputs": [],
   "source": [
    "X_train, X_test, y_train, y_test = train_test_split(X, y, test_size = 0.4)"
   ]
  },
  {
   "cell_type": "code",
   "execution_count": 26,
   "metadata": {},
   "outputs": [
    {
     "name": "stdout",
     "output_type": "stream",
     "text": [
      "4104\n",
      "2462\n",
      "1642\n"
     ]
    }
   ],
   "source": [
    "print(len(X))\n",
    "print(len(X_train))\n",
    "print(len(X_test))"
   ]
  },
  {
   "cell_type": "code",
   "execution_count": 27,
   "metadata": {},
   "outputs": [],
   "source": [
    "from sklearn.linear_model import Lasso\n",
    "\n",
    "model = Lasso()"
   ]
  },
  {
   "cell_type": "code",
   "execution_count": 28,
   "metadata": {},
   "outputs": [
    {
     "name": "stderr",
     "output_type": "stream",
     "text": [
      "C:\\Users\\WINDOWS TEN PRO\\Anaconda3\\envs\\Platzi - FundamentosAL\\lib\\site-packages\\sklearn\\linear_model\\_coordinate_descent.py:476: ConvergenceWarning: Objective did not converge. You might want to increase the number of iterations. Duality gap: 1.844086447921215e+18, tolerance: 7853912595447858.0\n",
      "  positive)\n"
     ]
    },
    {
     "data": {
      "text/plain": [
       "Lasso(alpha=1.0, copy_X=True, fit_intercept=True, max_iter=1000,\n",
       "      normalize=False, positive=False, precompute=False, random_state=None,\n",
       "      selection='cyclic', tol=0.0001, warm_start=False)"
      ]
     },
     "execution_count": 28,
     "metadata": {},
     "output_type": "execute_result"
    }
   ],
   "source": [
    "model.fit(X_train, y_train)"
   ]
  },
  {
   "cell_type": "code",
   "execution_count": 29,
   "metadata": {},
   "outputs": [],
   "source": [
    "predicted = model.predict(X_test)"
   ]
  },
  {
   "cell_type": "code",
   "execution_count": 30,
   "metadata": {},
   "outputs": [
    {
     "data": {
      "text/plain": [
       "(1642,)"
      ]
     },
     "execution_count": 30,
     "metadata": {},
     "output_type": "execute_result"
    }
   ],
   "source": [
    "predicted.shape"
   ]
  },
  {
   "cell_type": "code",
   "execution_count": 31,
   "metadata": {},
   "outputs": [],
   "source": [
    "import matplotlib.pyplot as plt"
   ]
  },
  {
   "cell_type": "code",
   "execution_count": 32,
   "metadata": {},
   "outputs": [],
   "source": [
    "%matplotlib inline"
   ]
  },
  {
   "cell_type": "code",
   "execution_count": 33,
   "metadata": {},
   "outputs": [
    {
     "data": {
      "text/plain": [
       "([array([  1.,   0., 639., 871., 102.,  21.,   8.,   0.,   0.,   0.]),\n",
       "  array([  0.,   0., 748., 767.,  89.,  27.,   8.,   1.,   1.,   1.])],\n",
       " array([-8.45476774e+08, -5.55062874e+08, -2.64648975e+08,  2.57649254e+07,\n",
       "         3.16178825e+08,  6.06592725e+08,  8.97006625e+08,  1.18742053e+09,\n",
       "         1.47783443e+09,  1.76824833e+09,  2.05866222e+09]),\n",
       " <a list of 2 Lists of Patches objects>)"
      ]
     },
     "execution_count": 33,
     "metadata": {},
     "output_type": "execute_result"
    },
    {
     "data": {
      "image/png": "[encoded data removed]",
      "text/plain": [
       "<Figure size 432x288 with 1 Axes>"
      ]
     },
     "metadata": {
      "needs_background": "light"
     },
     "output_type": "display_data"
    }
   ],
   "source": [
    "plt.hist((predicted, y_test))#Comparando resultados"
   ]
  },
  {
   "cell_type": "markdown",
   "metadata": {},
   "source": [
    "Los estimadores y las funciones de sklearn vienen con el máximo de argumentos con valores por defecto que suelen ser las mejores opciones si no tenemos algun conocimiento particular el problema. En este caso particular la función estimator.score ya viene con una de las métricas de sklearn.metrics, que es la métrica sklearn.metric.r2_score\n",
    "El score R2 de una regresión es una de las formas más comunes de entender su poder predictivo. Este mientras más cerca de 1 este, mejor es\n",
    "Los valores que puede tomar son de -infinito hasta 1. Un score R2 negativo es malo, ya que esto indica que la regresión es peor que si simplemente eligieramos un valor fijo como predicción para todos los puntos, la media."
   ]
  },
  {
   "cell_type": "code",
   "execution_count": 34,
   "metadata": {},
   "outputs": [
    {
     "data": {
      "text/plain": [
       "0.7948902261938726"
      ]
     },
     "execution_count": 34,
     "metadata": {},
     "output_type": "execute_result"
    }
   ],
   "source": [
    "model.score(X_test, y_test)"
   ]
  },
  {
   "cell_type": "markdown",
   "metadata": {},
   "source": [
    "Siempre visualiza tus resultados. Aunque tengas un buen score"
   ]
  },
  {
   "cell_type": "code",
   "execution_count": 35,
   "metadata": {},
   "outputs": [],
   "source": [
    "residuals = y_test - predicted"
   ]
  },
  {
   "cell_type": "code",
   "execution_count": 36,
   "metadata": {},
   "outputs": [
    {
     "data": {
      "text/plain": [
       "<matplotlib.collections.PathCollection at 0x18edd20f288>"
      ]
     },
     "execution_count": 36,
     "metadata": {},
     "output_type": "execute_result"
    },
    {
     "data": {
      "image/png": "[encoded data removed]",
      "text/plain": [
       "<Figure size 432x288 with 1 Axes>"
      ]
     },
     "metadata": {
      "needs_background": "light"
     },
     "output_type": "display_data"
    }
   ],
   "source": [
    "plt.scatter(y_test, residuals)"
   ]
  },
  {
   "cell_type": "markdown",
   "metadata": {},
   "source": [
    "En los datos residuales buscamos que no exista más de un patron formado, en este caso vemos que es solo un grupo con uno que otros puntos dispersos"
   ]
  },
  {
   "cell_type": "code",
   "execution_count": 37,
   "metadata": {},
   "outputs": [],
   "source": [
    "ap_residuals = np.abs(residuals) / y_test"
   ]
  },
  {
   "cell_type": "code",
   "execution_count": 38,
   "metadata": {},
   "outputs": [
    {
     "data": {
      "text/plain": [
       "<matplotlib.collections.PathCollection at 0x18ee03ce988>"
      ]
     },
     "execution_count": 38,
     "metadata": {},
     "output_type": "execute_result"
    },
    {
     "data": {
      "image/png": "[encoded data removed]",
      "text/plain": [
       "<Figure size 432x288 with 1 Axes>"
      ]
     },
     "metadata": {
      "needs_background": "light"
     },
     "output_type": "display_data"
    }
   ],
   "source": [
    "plt.scatter(y_test, ap_residuals)"
   ]
  },
  {
   "cell_type": "code",
   "execution_count": 39,
   "metadata": {},
   "outputs": [],
   "source": [
    "lap_residuals = np.log(ap_residuals)"
   ]
  },
  {
   "cell_type": "code",
   "execution_count": 40,
   "metadata": {},
   "outputs": [
    {
     "data": {
      "text/plain": [
       "<matplotlib.collections.PathCollection at 0x18edf9dc148>"
      ]
     },
     "execution_count": 40,
     "metadata": {},
     "output_type": "execute_result"
    },
    {
     "data": {
      "image/png": "[encoded data removed]",
      "text/plain": [
       "<Figure size 432x288 with 1 Axes>"
      ]
     },
     "metadata": {
      "needs_background": "light"
     },
     "output_type": "display_data"
    }
   ],
   "source": [
    "plt.scatter(y_test, lap_residuals)"
   ]
  },
  {
   "cell_type": "code",
   "execution_count": 43,
   "metadata": {},
   "outputs": [
    {
     "name": "stderr",
     "output_type": "stream",
     "text": [
      "C:\\Users\\WINDOWS TEN PRO\\Anaconda3\\envs\\Platzi - FundamentosAL\\lib\\site-packages\\ipykernel_launcher.py:1: MatplotlibDeprecationWarning: \n",
      "The 'normed' kwarg was deprecated in Matplotlib 2.1 and will be removed in 3.1. Use 'density' instead.\n",
      "  \"\"\"Entry point for launching an IPython kernel.\n"
     ]
    },
    {
     "data": {
      "image/png": "[encoded data removed]",
      "text/plain": [
       "<Figure size 432x288 with 1 Axes>"
      ]
     },
     "metadata": {
      "needs_background": "light"
     },
     "output_type": "display_data"
    }
   ],
   "source": [
    "plt.hist(lap_residuals, bins=100,normed=1,histtype='step',cumulative=True);#; para que no muestre el output"
   ]
  },
  {
   "cell_type": "code",
   "execution_count": 44,
   "metadata": {},
   "outputs": [
    {
     "name": "stderr",
     "output_type": "stream",
     "text": [
      "C:\\Users\\WINDOWS TEN PRO\\Anaconda3\\envs\\Platzi - FundamentosAL\\lib\\site-packages\\ipykernel_launcher.py:1: MatplotlibDeprecationWarning: \n",
      "The 'normed' kwarg was deprecated in Matplotlib 2.1 and will be removed in 3.1. Use 'density' instead.\n",
      "  \"\"\"Entry point for launching an IPython kernel.\n"
     ]
    },
    {
     "data": {
      "text/plain": [
       "array([0.13533528, 0.22313016, 0.36787944, 0.60653066, 1.        ])"
      ]
     },
     "execution_count": 44,
     "metadata": {},
     "output_type": "execute_result"
    },
    {
     "data": {
      "image/png": "[encoded data removed]",
      "text/plain": [
       "<Figure size 432x288 with 1 Axes>"
      ]
     },
     "metadata": {
      "needs_background": "light"
     },
     "output_type": "display_data"
    }
   ],
   "source": [
    "plt.hist(lap_residuals, bins=100,normed=1,histtype='step',cumulative=True);\n",
    "plt.axis([-2,0,0,1])\n",
    "np.power(np.exp(1)*np.ones(5),np.linspace(-2,0,5))"
   ]
  },
  {
   "cell_type": "code",
   "execution_count": null,
   "metadata": {},
   "outputs": [],
   "source": []
  }
 ],
 "metadata": {
  "kernelspec": {
   "display_name": "Python 3",
   "language": "python",
   "name": "python3"
  },
  "language_info": {
   "codemirror_mode": {
    "name": "ipython",
    "version": 3
   },
   "file_extension": ".py",
   "mimetype": "text/x-python",
   "name": "python",
   "nbconvert_exporter": "python",
   "pygments_lexer": "ipython3",
   "version": "3.7.6"
  }
 },
 "nbformat": 4,
 "nbformat_minor": 4
}
