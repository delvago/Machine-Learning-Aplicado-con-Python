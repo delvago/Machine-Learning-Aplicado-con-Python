{
 "cells": [
  {
   "cell_type": "code",
   "execution_count": 1,
   "metadata": {},
   "outputs": [],
   "source": [
    "import warnings\n",
    "warnings.simplefilter('ignore')"
   ]
  },
  {
   "cell_type": "code",
   "execution_count": 2,
   "metadata": {},
   "outputs": [],
   "source": [
    "import numpy as np\n",
    "import pandas as pd\n",
    "import matplotlib.pyplot as plt"
   ]
  },
  {
   "cell_type": "code",
   "execution_count": 3,
   "metadata": {},
   "outputs": [],
   "source": [
    "%matplotlib inline"
   ]
  },
  {
   "cell_type": "markdown",
   "metadata": {},
   "source": [
    "### Decision Trees"
   ]
  },
  {
   "cell_type": "code",
   "execution_count": 4,
   "metadata": {},
   "outputs": [],
   "source": [
    "from sklearn.tree import DecisionTreeRegressor as DTG\n",
    "model = DTG(max_depth=2)"
   ]
  },
  {
   "cell_type": "code",
   "execution_count": 5,
   "metadata": {},
   "outputs": [],
   "source": [
    "X = pd.read_csv('..\\..\\..\\DataSets\\Resultados intermedios peliculas DS\\X_opening.csv')\n",
    "y = X['worldwide_gross']\n",
    "X = X.drop('worldwide_gross', axis=1)"
   ]
  },
  {
   "cell_type": "code",
   "execution_count": 6,
   "metadata": {},
   "outputs": [],
   "source": [
    "from sklearn.model_selection import train_test_split\n",
    "X_train, X_test, y_train, y_test = train_test_split(X,y,random_state=1)"
   ]
  },
  {
   "cell_type": "code",
   "execution_count": 7,
   "metadata": {},
   "outputs": [
    {
     "data": {
      "text/plain": [
       "DecisionTreeRegressor(ccp_alpha=0.0, criterion='mse', max_depth=2,\n",
       "                      max_features=None, max_leaf_nodes=None,\n",
       "                      min_impurity_decrease=0.0, min_impurity_split=None,\n",
       "                      min_samples_leaf=1, min_samples_split=2,\n",
       "                      min_weight_fraction_leaf=0.0, presort='deprecated',\n",
       "                      random_state=None, splitter='best')"
      ]
     },
     "execution_count": 7,
     "metadata": {},
     "output_type": "execute_result"
    }
   ],
   "source": [
    "model.fit(X_train, y_train)"
   ]
  },
  {
   "cell_type": "code",
   "execution_count": 8,
   "metadata": {},
   "outputs": [
    {
     "data": {
      "text/plain": [
       "0.6966161697635206"
      ]
     },
     "execution_count": 8,
     "metadata": {},
     "output_type": "execute_result"
    }
   ],
   "source": [
    "model.score(X_test,y_test)"
   ]
  },
  {
   "cell_type": "code",
   "execution_count": 9,
   "metadata": {},
   "outputs": [],
   "source": [
    "import graphviz"
   ]
  },
  {
   "cell_type": "code",
   "execution_count": 10,
   "metadata": {},
   "outputs": [],
   "source": [
    "from sklearn.tree import export_graphviz\n",
    "\n",
    "treedot = export_graphviz(model,\n",
    "                         out_file=None,\n",
    "                         feature_names=X.columns)"
   ]
  },
  {
   "cell_type": "code",
   "execution_count": 11,
   "metadata": {},
   "outputs": [
    {
     "data": {
      "text/plain": [
       "'digraph Tree {\\nnode [shape=box] ;\\n0 [label=\"opening_gross <= 41613376.0\\\\nmse = 4.491994363696598e+16\\\\nsamples = 1665\\\\nvalue = 141540319.054\"] ;\\n1 [label=\"opening_gross <= 22074047.0\\\\nmse = 1.3333822193127824e+16\\\\nsamples = 1506\\\\nvalue = 92999937.199\"] ;\\n0 -> 1 [labeldistance=2.5, labelangle=45, headlabel=\"True\"] ;\\n2 [label=\"mse = 4923666241203546.0\\\\nsamples = 1257\\\\nvalue = 64781848.271\"] ;\\n1 -> 2 ;\\n3 [label=\"mse = 3.147813101998764e+16\\\\nsamples = 249\\\\nvalue = 235450289.735\"] ;\\n1 -> 3 ;\\n4 [label=\"opening_gross <= 70351576.0\\\\nmse = 1.10398118715936e+17\\\\nsamples = 159\\\\nvalue = 601300162.289\"] ;\\n0 -> 4 [labeldistance=2.5, labelangle=-45, headlabel=\"False\"] ;\\n5 [label=\"mse = 4.067538845924493e+16\\\\nsamples = 92\\\\nvalue = 440868287.554\"] ;\\n4 -> 5 ;\\n6 [label=\"mse = 1.2226485798747571e+17\\\\nsamples = 67\\\\nvalue = 821594676.851\"] ;\\n4 -> 6 ;\\n}'"
      ]
     },
     "execution_count": 11,
     "metadata": {},
     "output_type": "execute_result"
    }
   ],
   "source": [
    "treedot"
   ]
  },
  {
   "cell_type": "markdown",
   "metadata": {},
   "source": [
    "## Random Forest"
   ]
  },
  {
   "cell_type": "code",
   "execution_count": 12,
   "metadata": {},
   "outputs": [],
   "source": [
    "from sklearn.ensemble import RandomForestRegressor\n",
    "from sklearn.model_selection import cross_validate"
   ]
  },
  {
   "cell_type": "code",
   "execution_count": 13,
   "metadata": {},
   "outputs": [],
   "source": [
    "forest = RandomForestRegressor(200)\n",
    "results = cross_validate(forest, X, y,return_train_score=True, cv=5, scoring='r2')"
   ]
  },
  {
   "cell_type": "code",
   "execution_count": 14,
   "metadata": {},
   "outputs": [
    {
     "data": {
      "text/plain": [
       "{'fit_time': array([1.75591898, 1.75592017, 1.76191211, 1.75292253, 1.76691198]),\n",
       " 'score_time': array([0.02398562, 0.02798104, 0.02798557, 0.02898216, 0.02698302]),\n",
       " 'test_score': array([0.46288398, 0.68984111, 0.57450978, 0.42459556, 0.44330136]),\n",
       " 'train_score': array([0.96146691, 0.96859762, 0.96396188, 0.96559008, 0.96659333])}"
      ]
     },
     "execution_count": 14,
     "metadata": {},
     "output_type": "execute_result"
    }
   ],
   "source": [
    "results"
   ]
  },
  {
   "cell_type": "code",
   "execution_count": 15,
   "metadata": {},
   "outputs": [
    {
     "name": "stdout",
     "output_type": "stream",
     "text": [
      "0.9652419647495718\n",
      "0.5190263588083983\n"
     ]
    }
   ],
   "source": [
    "test_scores = results['test_score']\n",
    "train_scores = results['train_score']\n",
    "print(np.mean(train_scores))\n",
    "print(np.mean(test_scores))"
   ]
  },
  {
   "cell_type": "code",
   "execution_count": 16,
   "metadata": {},
   "outputs": [],
   "source": [
    "#Buenos resultados de entrenamiento pero tiene overfitting"
   ]
  },
  {
   "cell_type": "markdown",
   "metadata": {},
   "source": [
    "## Gradiente Boosting trees"
   ]
  },
  {
   "cell_type": "code",
   "execution_count": 17,
   "metadata": {},
   "outputs": [],
   "source": [
    "from sklearn.ensemble import GradientBoostingRegressor\n",
    "\n",
    "ensemble = GradientBoostingRegressor()\n",
    "results = cross_validate(ensemble, X, y, return_train_score=True, cv=5, scoring='r2')"
   ]
  },
  {
   "cell_type": "code",
   "execution_count": 18,
   "metadata": {},
   "outputs": [
    {
     "name": "stdout",
     "output_type": "stream",
     "text": [
      "0.9151392143549633\n",
      "0.5248041593477997\n"
     ]
    }
   ],
   "source": [
    "test_scores = results['test_score']\n",
    "train_scores = results['train_score']\n",
    "print(np.mean(train_scores))\n",
    "print(np.mean(test_scores))"
   ]
  },
  {
   "cell_type": "markdown",
   "metadata": {},
   "source": [
    "## Hiperparámetros"
   ]
  },
  {
   "cell_type": "code",
   "execution_count": 19,
   "metadata": {},
   "outputs": [],
   "source": [
    "from sklearn.model_selection import train_test_split\n",
    "\n",
    "X_train, X_test, y_train, y_test = train_test_split(X, y, random_state=1)"
   ]
  },
  {
   "cell_type": "code",
   "execution_count": 20,
   "metadata": {},
   "outputs": [],
   "source": [
    "from sklearn.model_selection import GridSearchCV\n",
    "\n",
    "param_test1 = {'n_estimators' : range(20, 501, 20)}"
   ]
  },
  {
   "cell_type": "code",
   "execution_count": 21,
   "metadata": {},
   "outputs": [
    {
     "data": {
      "text/plain": [
       "{'n_estimators': range(20, 501, 20)}"
      ]
     },
     "execution_count": 21,
     "metadata": {},
     "output_type": "execute_result"
    }
   ],
   "source": [
    "param_test1"
   ]
  },
  {
   "cell_type": "code",
   "execution_count": 26,
   "metadata": {},
   "outputs": [
    {
     "data": {
      "text/plain": [
       "[20,\n",
       " 40,\n",
       " 60,\n",
       " 80,\n",
       " 100,\n",
       " 120,\n",
       " 140,\n",
       " 160,\n",
       " 180,\n",
       " 200,\n",
       " 220,\n",
       " 240,\n",
       " 260,\n",
       " 280,\n",
       " 300,\n",
       " 320,\n",
       " 340,\n",
       " 360,\n",
       " 380,\n",
       " 400,\n",
       " 420,\n",
       " 440,\n",
       " 460,\n",
       " 480,\n",
       " 500]"
      ]
     },
     "execution_count": 26,
     "metadata": {},
     "output_type": "execute_result"
    }
   ],
   "source": [
    "list(param_test1['n_estimators'])"
   ]
  },
  {
   "cell_type": "code",
   "execution_count": 27,
   "metadata": {},
   "outputs": [],
   "source": [
    "estimator = GradientBoostingRegressor(learning_rate=0.1,\n",
    "                                      min_samples_split=500,\n",
    "                                      min_samples_leaf=50,\n",
    "                                      max_depth=8,\n",
    "                                      max_features='sqrt',\n",
    "                                      subsample=0.8,\n",
    "                                      random_state=10)"
   ]
  },
  {
   "cell_type": "code",
   "execution_count": 28,
   "metadata": {},
   "outputs": [],
   "source": [
    "gsearch1 = GridSearchCV(estimator,\n",
    "                       param_grid = param_test1,\n",
    "                       scoring='r2',\n",
    "                       cv=5)"
   ]
  },
  {
   "cell_type": "code",
   "execution_count": 29,
   "metadata": {},
   "outputs": [
    {
     "data": {
      "text/plain": [
       "GridSearchCV(cv=5, error_score=nan,\n",
       "             estimator=GradientBoostingRegressor(alpha=0.9, ccp_alpha=0.0,\n",
       "                                                 criterion='friedman_mse',\n",
       "                                                 init=None, learning_rate=0.1,\n",
       "                                                 loss='ls', max_depth=8,\n",
       "                                                 max_features='sqrt',\n",
       "                                                 max_leaf_nodes=None,\n",
       "                                                 min_impurity_decrease=0.0,\n",
       "                                                 min_impurity_split=None,\n",
       "                                                 min_samples_leaf=50,\n",
       "                                                 min_samples_split=500,\n",
       "                                                 min_weight_fraction_leaf=0.0,\n",
       "                                                 n_estimators=100,\n",
       "                                                 n_iter_no_change=None,\n",
       "                                                 presort='deprecated',\n",
       "                                                 random_state=10, subsample=0.8,\n",
       "                                                 tol=0.0001,\n",
       "                                                 validation_fraction=0.1,\n",
       "                                                 verbose=0, warm_start=False),\n",
       "             iid='deprecated', n_jobs=None,\n",
       "             param_grid={'n_estimators': range(20, 501, 20)},\n",
       "             pre_dispatch='2*n_jobs', refit=True, return_train_score=False,\n",
       "             scoring='r2', verbose=0)"
      ]
     },
     "execution_count": 29,
     "metadata": {},
     "output_type": "execute_result"
    }
   ],
   "source": [
    "gsearch1.fit(X_train, y_train)"
   ]
  },
  {
   "cell_type": "code",
   "execution_count": 31,
   "metadata": {},
   "outputs": [
    {
     "data": {
      "text/plain": [
       "({'mean_fit_time': array([0.03138151, 0.05056834, 0.07795162, 0.11093173, 0.12652197,\n",
       "         0.15050755, 0.17789063, 0.20347085, 0.25684152, 0.26703644,\n",
       "         0.31680427, 0.32020631, 0.37301073, 0.38394032, 0.38786449,\n",
       "         0.39188781, 0.39955802, 0.42271285, 0.44568396, 0.46427574,\n",
       "         0.49309659, 0.5144824 , 0.54266562, 0.55885634, 0.58104162]),\n",
       "  'std_fit_time': array([0.00988534, 0.00272536, 0.00178814, 0.00791931, 0.00149545,\n",
       "         0.00224426, 0.00244756, 0.00688388, 0.01956397, 0.00318673,\n",
       "         0.02119911, 0.01303835, 0.01337193, 0.02172286, 0.02299109,\n",
       "         0.00646991, 0.00490314, 0.00588467, 0.00400661, 0.0021812 ,\n",
       "         0.01509777, 0.00710558, 0.0060633 , 0.01084476, 0.00708409]),\n",
       "  'mean_score_time': array([0.00139894, 0.00119958, 0.0019989 , 0.00199866, 0.00199871,\n",
       "         0.00240006, 0.00239849, 0.00259876, 0.00279818, 0.00299711,\n",
       "         0.00299854, 0.00306907, 0.00359817, 0.00399709, 0.00399718,\n",
       "         0.0033978 , 0.02014313, 0.00359759, 0.00399704, 0.00399737,\n",
       "         0.0043972 , 0.00419741, 0.00439696, 0.004597  , 0.00459676]),\n",
       "  'std_score_time': array([4.89667943e-04, 4.00734260e-04, 3.37174788e-07, 6.39744180e-07,\n",
       "         1.78416128e-07, 4.88604000e-04, 4.89200973e-04, 4.89591028e-04,\n",
       "         3.99995173e-04, 6.30602123e-04, 1.05982355e-06, 1.41311527e-04,\n",
       "         8.00287856e-04, 6.32409764e-04, 6.31733523e-04, 4.89901429e-04,\n",
       "         3.27915913e-02, 4.89571211e-04, 3.16297988e-07, 2.78041453e-07,\n",
       "         4.89648413e-04, 3.99685162e-04, 4.89551027e-04, 4.89531798e-04,\n",
       "         7.99620235e-04]),\n",
       "  'param_n_estimators': masked_array(data=[20, 40, 60, 80, 100, 120, 140, 160, 180, 200, 220, 240,\n",
       "                     260, 280, 300, 320, 340, 360, 380, 400, 420, 440, 460,\n",
       "                     480, 500],\n",
       "               mask=[False, False, False, False, False, False, False, False,\n",
       "                     False, False, False, False, False, False, False, False,\n",
       "                     False, False, False, False, False, False, False, False,\n",
       "                     False],\n",
       "         fill_value='?',\n",
       "              dtype=object),\n",
       "  'params': [{'n_estimators': 20},\n",
       "   {'n_estimators': 40},\n",
       "   {'n_estimators': 60},\n",
       "   {'n_estimators': 80},\n",
       "   {'n_estimators': 100},\n",
       "   {'n_estimators': 120},\n",
       "   {'n_estimators': 140},\n",
       "   {'n_estimators': 160},\n",
       "   {'n_estimators': 180},\n",
       "   {'n_estimators': 200},\n",
       "   {'n_estimators': 220},\n",
       "   {'n_estimators': 240},\n",
       "   {'n_estimators': 260},\n",
       "   {'n_estimators': 280},\n",
       "   {'n_estimators': 300},\n",
       "   {'n_estimators': 320},\n",
       "   {'n_estimators': 340},\n",
       "   {'n_estimators': 360},\n",
       "   {'n_estimators': 380},\n",
       "   {'n_estimators': 400},\n",
       "   {'n_estimators': 420},\n",
       "   {'n_estimators': 440},\n",
       "   {'n_estimators': 460},\n",
       "   {'n_estimators': 480},\n",
       "   {'n_estimators': 500}],\n",
       "  'split0_test_score': array([0.59752767, 0.66318962, 0.67799512, 0.68736261, 0.69407451,\n",
       "         0.69644295, 0.6990422 , 0.70000709, 0.70023325, 0.70254159,\n",
       "         0.7033932 , 0.70503564, 0.70421407, 0.70477118, 0.70456304,\n",
       "         0.70347179, 0.70591254, 0.70615844, 0.70549909, 0.70619335,\n",
       "         0.70641191, 0.70607005, 0.70488541, 0.70509459, 0.70606468]),\n",
       "  'split1_test_score': array([0.57597423, 0.62900787, 0.6424323 , 0.6465455 , 0.64650036,\n",
       "         0.65232314, 0.65522014, 0.65782511, 0.66077851, 0.66012628,\n",
       "         0.66283287, 0.66126336, 0.66186604, 0.66187646, 0.6613415 ,\n",
       "         0.6605033 , 0.66076393, 0.65800964, 0.65866955, 0.66006482,\n",
       "         0.65823844, 0.6586208 , 0.65890922, 0.65966929, 0.65999987]),\n",
       "  'split2_test_score': array([0.69278935, 0.76455418, 0.79716124, 0.79952293, 0.8100557 ,\n",
       "         0.81563534, 0.82510917, 0.82877848, 0.83334094, 0.83862217,\n",
       "         0.83775255, 0.84330169, 0.84772515, 0.8472231 , 0.84801138,\n",
       "         0.84870529, 0.84767823, 0.84913507, 0.84686398, 0.84695479,\n",
       "         0.84565689, 0.84729161, 0.844779  , 0.84384346, 0.84377605]),\n",
       "  'split3_test_score': array([0.72244447, 0.79285729, 0.79853015, 0.80412714, 0.79927652,\n",
       "         0.80102727, 0.80015696, 0.79786914, 0.79888451, 0.7983842 ,\n",
       "         0.79802751, 0.79674271, 0.79499869, 0.79126377, 0.79374111,\n",
       "         0.78697492, 0.78826422, 0.78952796, 0.7897137 , 0.78747139,\n",
       "         0.78725182, 0.78608141, 0.78645988, 0.78257718, 0.78215173]),\n",
       "  'split4_test_score': array([0.68795286, 0.74774462, 0.75750081, 0.75711135, 0.76033551,\n",
       "         0.76423249, 0.76817491, 0.76961897, 0.76959007, 0.76777876,\n",
       "         0.77084024, 0.77018645, 0.76705348, 0.76429162, 0.76535454,\n",
       "         0.76284789, 0.76488536, 0.76488593, 0.76218244, 0.76202628,\n",
       "         0.76172054, 0.76220427, 0.76279499, 0.76134627, 0.76281201]),\n",
       "  'mean_test_score': array([0.65533772, 0.71947072, 0.73472393, 0.73893391, 0.74204852,\n",
       "         0.74593224, 0.74954068, 0.75081976, 0.75256545, 0.7534906 ,\n",
       "         0.75456927, 0.75530597, 0.75517149, 0.75388522, 0.75460231,\n",
       "         0.75250064, 0.75350086, 0.75354341, 0.75258576, 0.75254213,\n",
       "         0.75185592, 0.75205363, 0.7515657 , 0.75050616, 0.75096087]),\n",
       "  'std_test_score': array([0.05763723, 0.06255975, 0.06359928, 0.06236477, 0.06271426,\n",
       "         0.06235501, 0.0633503 , 0.06304688, 0.06344048, 0.06446653,\n",
       "         0.06341511, 0.06488882, 0.06572082, 0.06495415, 0.06568747,\n",
       "         0.06544955, 0.06491881, 0.06623193, 0.06541616, 0.06469005,\n",
       "         0.06477375, 0.06507746, 0.06449293, 0.06351607, 0.06327329]),\n",
       "  'rank_test_score': array([25, 24, 23, 22, 21, 20, 19, 17, 10,  8,  4,  1,  2,  5,  3, 12,  7,\n",
       "          6,  9, 11, 14, 13, 15, 18, 16])},\n",
       " {'n_estimators': 240},\n",
       " 0.7553059694284988)"
      ]
     },
     "execution_count": 31,
     "metadata": {},
     "output_type": "execute_result"
    }
   ],
   "source": [
    "gsearch1.cv_results_, gsearch1.best_params_, gsearch1.best_score_"
   ]
  },
  {
   "cell_type": "code",
   "execution_count": 39,
   "metadata": {},
   "outputs": [],
   "source": [
    "final_results = cross_validate(gsearch1.best_estimator_,X_train,y_train,return_train_score=True)"
   ]
  },
  {
   "cell_type": "code",
   "execution_count": 40,
   "metadata": {},
   "outputs": [
    {
     "data": {
      "text/plain": [
       "{'fit_time': array([0.28682232, 0.26683545, 0.27083325, 0.29381871, 0.29082274]),\n",
       " 'score_time': array([0.00299811, 0.00299788, 0.00299811, 0.00300074, 0.00299764]),\n",
       " 'test_score': array([0.70503564, 0.66126336, 0.84330169, 0.79674271, 0.77018645]),\n",
       " 'train_score': array([0.84023253, 0.84280927, 0.80824339, 0.82833448, 0.82368469])}"
      ]
     },
     "execution_count": 40,
     "metadata": {},
     "output_type": "execute_result"
    }
   ],
   "source": [
    "final_results"
   ]
  },
  {
   "cell_type": "code",
   "execution_count": 41,
   "metadata": {},
   "outputs": [
    {
     "name": "stdout",
     "output_type": "stream",
     "text": [
      "0.8286608694466742\n",
      "0.7553059694284988\n"
     ]
    }
   ],
   "source": [
    "test_scores = final_results['test_score']\n",
    "train_scores = final_results['train_score']\n",
    "print(np.mean(train_scores))\n",
    "print(np.mean(test_scores))"
   ]
  },
  {
   "cell_type": "code",
   "execution_count": 42,
   "metadata": {},
   "outputs": [],
   "source": [
    "estimator = GradientBoostingRegressor(learning_rate=0.1,\n",
    "                                     min_samples_split=500,\n",
    "                                     min_samples_leaf=50,\n",
    "                                     max_depth=8,\n",
    "                                     max_features='sqrt',\n",
    "                                     subsample=0.8,\n",
    "                                     random_state=10,\n",
    "                                     n_estimators=240)"
   ]
  },
  {
   "cell_type": "code",
   "execution_count": 43,
   "metadata": {},
   "outputs": [
    {
     "data": {
      "text/plain": [
       "GradientBoostingRegressor(alpha=0.9, ccp_alpha=0.0, criterion='friedman_mse',\n",
       "                          init=None, learning_rate=0.1, loss='ls', max_depth=8,\n",
       "                          max_features='sqrt', max_leaf_nodes=None,\n",
       "                          min_impurity_decrease=0.0, min_impurity_split=None,\n",
       "                          min_samples_leaf=50, min_samples_split=500,\n",
       "                          min_weight_fraction_leaf=0.0, n_estimators=240,\n",
       "                          n_iter_no_change=None, presort='deprecated',\n",
       "                          random_state=10, subsample=0.8, tol=0.0001,\n",
       "                          validation_fraction=0.1, verbose=0, warm_start=False)"
      ]
     },
     "execution_count": 43,
     "metadata": {},
     "output_type": "execute_result"
    }
   ],
   "source": [
    "estimator.fit(X_train,y_train)"
   ]
  },
  {
   "cell_type": "code",
   "execution_count": 45,
   "metadata": {},
   "outputs": [
    {
     "data": {
      "text/plain": [
       "0.8092888852563106"
      ]
     },
     "execution_count": 45,
     "metadata": {},
     "output_type": "execute_result"
    }
   ],
   "source": [
    "estimator.score(X_test,y_test)"
   ]
  },
  {
   "cell_type": "code",
   "execution_count": null,
   "metadata": {},
   "outputs": [],
   "source": []
  }
 ],
 "metadata": {
  "kernelspec": {
   "display_name": "Python 3",
   "language": "python",
   "name": "python3"
  },
  "language_info": {
   "codemirror_mode": {
    "name": "ipython",
    "version": 3
   },
   "file_extension": ".py",
   "mimetype": "text/x-python",
   "name": "python",
   "nbconvert_exporter": "python",
   "pygments_lexer": "ipython3",
   "version": "3.7.6"
  }
 },
 "nbformat": 4,
 "nbformat_minor": 4
}
